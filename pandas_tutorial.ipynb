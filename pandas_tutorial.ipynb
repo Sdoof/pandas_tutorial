{
 "cells": [
  {
   "cell_type": "code",
   "execution_count": null,
   "metadata": {
    "collapsed": true
   },
   "outputs": [],
   "source": [
    "import pandas as pd\n",
    "import numpy as np"
   ]
  },
  {
   "cell_type": "markdown",
   "metadata": {},
   "source": [
    "## Introduction to Pandas 🐼"
   ]
  },
  {
   "cell_type": "markdown",
   "metadata": {},
   "source": [
    "What is pandas? Pandas is a Python library that is very useful for manipulating data. It is very commonly used in the Python community for any data analysis, including cleaning data, making quick visualizations, and preparing data for advanced analysis or machine learning algorithms. If you're interested in data science, you'll likely end up using Pandas quite a lot.\n",
    "\n",
    "Fortunately, pandas is well integrated with other important data libraries like numpy (for vector and matrix operations), matplotlib (plotting and visualizations), and sckit-learn (machine learning). Pandas is incredibly well documented (http://pandas.pydata.org/pandas-docs/stable/)"
   ]
  },
  {
   "cell_type": "markdown",
   "metadata": {},
   "source": [
    "### Data Structures: Series and DataFrames"
   ]
  },
  {
   "cell_type": "markdown",
   "metadata": {},
   "source": [
    "The main data structures to be aware of in pandas are series and dataframes. Series are 1-dimensional arrays of data. Series can hold any type of data, but all elements in a specific series must be the same type. So you can have a series made up of integers, or a series made up of strings but you can't have a series of floats and strings-- you can create it, but the data types will be converted."
   ]
  },
  {
   "cell_type": "code",
   "execution_count": null,
   "metadata": {
    "collapsed": true
   },
   "outputs": [],
   "source": [
    "some_numbers = pd.Series([1, 2, 3])\n",
    "some_strings = pd.Series([\"cat\", \"dog\", \"mouse\"])\n",
    "mixed = pd.Series([1, \"cat\", 3.0])"
   ]
  },
  {
   "cell_type": "code",
   "execution_count": null,
   "metadata": {
    "collapsed": false
   },
   "outputs": [],
   "source": [
    "print some_numbers\n",
    "print some_strings\n",
    "print mixed"
   ]
  },
  {
   "cell_type": "markdown",
   "metadata": {},
   "source": [
    "In contrast, dataframes are 2-dimensional arrays of data where the columns can be different data types. A dataframe might look familiar, as its similar to how you might arrange data in a spreadsheet. "
   ]
  },
  {
   "cell_type": "code",
   "execution_count": null,
   "metadata": {
    "collapsed": true
   },
   "outputs": [],
   "source": [
    "df = pd.DataFrame({\"animal\":some_strings, \"score\":some_numbers*3})"
   ]
  },
  {
   "cell_type": "code",
   "execution_count": null,
   "metadata": {
    "collapsed": false
   },
   "outputs": [],
   "source": [
    "df"
   ]
  },
  {
   "cell_type": "markdown",
   "metadata": {},
   "source": [
    "There are a lot of different ways to construct a dataframe (from a Series, a dictionary, a numpy array, etc.) but I find most often you are probably reading data in from a csv or database. Fortunately, pandas has a lot of different methods of reading in data. For the rest of this tutorial, let's use some data available at [Kaggle](https://www.kaggle.com/c/titanic/data)."
   ]
  },
  {
   "cell_type": "code",
   "execution_count": null,
   "metadata": {
    "collapsed": true
   },
   "outputs": [],
   "source": [
    "titanic = pd.read_csv(\"train.csv\")"
   ]
  },
  {
   "cell_type": "code",
   "execution_count": null,
   "metadata": {
    "collapsed": false
   },
   "outputs": [],
   "source": [
    "titanic.info()"
   ]
  },
  {
   "cell_type": "code",
   "execution_count": null,
   "metadata": {
    "collapsed": false
   },
   "outputs": [],
   "source": [
    "titanic.head()"
   ]
  },
  {
   "cell_type": "markdown",
   "metadata": {},
   "source": [
    "Let's say I just want to view 1 column of the dataframe. Notice anything about this output?"
   ]
  },
  {
   "cell_type": "code",
   "execution_count": null,
   "metadata": {
    "collapsed": false
   },
   "outputs": [],
   "source": [
    "titanic[\"Name\"]"
   ]
  },
  {
   "cell_type": "markdown",
   "metadata": {},
   "source": [
    "It's a series! The columns and the rows in DataFrames are both Series. This means anything you can do to a Series, you can do to a row or column in a dataframe and turns out to be pretty handy."
   ]
  },
  {
   "cell_type": "code",
   "execution_count": null,
   "metadata": {
    "collapsed": false
   },
   "outputs": [],
   "source": [
    "# Useful for numeric data\n",
    "titanic.describe()"
   ]
  },
  {
   "cell_type": "code",
   "execution_count": null,
   "metadata": {
    "collapsed": false
   },
   "outputs": [],
   "source": [
    "# Useful for categorical data\n",
    "titanic[\"Sex\"].value_counts()"
   ]
  },
  {
   "cell_type": "markdown",
   "metadata": {},
   "source": [
    "What if I need to see only a specific slice of rows and columns? The most common way to achieve this is the .loc method:"
   ]
  },
  {
   "cell_type": "code",
   "execution_count": null,
   "metadata": {
    "collapsed": false
   },
   "outputs": [],
   "source": [
    "# View only Name and survived for rows 10-20\n",
    "titanic.loc[10:20,[\"Name\", \"Survived\"]]"
   ]
  },
  {
   "cell_type": "code",
   "execution_count": null,
   "metadata": {
    "collapsed": false
   },
   "outputs": [],
   "source": [
    "# Also lets us easily filter; say I want to see the names of passengers under age 18\n",
    "titanic.loc[titanic[\"Age\"] < 18, [\"Name\", \"Age\"]]"
   ]
  },
  {
   "cell_type": "code",
   "execution_count": null,
   "metadata": {
    "collapsed": false
   },
   "outputs": [],
   "source": [
    "# Same as above but only where Survived = 1:\n",
    "titanic.loc[(titanic[\"Age\"] < 18) & (titanic[\"Survived\"] == 1), :]"
   ]
  },
  {
   "cell_type": "markdown",
   "metadata": {},
   "source": [
    "### Creating new columns\n",
    "You'll often want to create new variables or features based on the data you have. In this dataset, passengers under 1 year have an age listed as a percent of a year. Let's create a new variable that is age in months."
   ]
  },
  {
   "cell_type": "code",
   "execution_count": null,
   "metadata": {
    "collapsed": false
   },
   "outputs": [],
   "source": [
    "titanic[\"age_mos\"] = titanic[\"Age\"]*12\n",
    "# to round to whole months:\n",
    "#titanic[\"age_mos\"] = titanic[\"Age\"].apply(lambda x: round(x*12))\n",
    "titanic.loc[titanic[\"Age\"]< 1, :]"
   ]
  },
  {
   "cell_type": "markdown",
   "metadata": {},
   "source": [
    "Maybe I want to create a categorical variable for whether a passenger is an adult (over age 18). I can do this really simply with a boolean:"
   ]
  },
  {
   "cell_type": "code",
   "execution_count": null,
   "metadata": {
    "collapsed": false
   },
   "outputs": [],
   "source": [
    "titanic[\"adult\"] = titanic[\"Age\"] >= 18"
   ]
  },
  {
   "cell_type": "code",
   "execution_count": null,
   "metadata": {
    "collapsed": false
   },
   "outputs": [],
   "source": [
    "titanic.head()\n",
    "# if need to convert to int:\n",
    "# titanic[\"adult\"] = titanic[\"adult\"]*1"
   ]
  },
  {
   "cell_type": "markdown",
   "metadata": {},
   "source": [
    "One quick aside: lots of pandas methods transform the data and return it to you without altering the actual dataframe you're working on. This is mostly good and it makes it harder for you to accidentally mess up your data. It does make it easy for you to **think** you changed some data but really you didn't alter it in place. The solution is to either set your dataframe or dataframe column equal to whatever transformation you applied (see titanic[\"adult\"] = titanic[\"adult\"]*1 above) or sometimes the method you're using has an \"inplace\" parameter that you can set to true."
   ]
  },
  {
   "cell_type": "code",
   "execution_count": null,
   "metadata": {
    "collapsed": false
   },
   "outputs": [],
   "source": [
    "## Another example: recode male/female to numbers\n",
    "titanic.loc[titanic['Sex'] == 'male', 'Sex'] = 1\n",
    "titanic.loc[titanic['Sex'] == 'female', 'Sex'] = 0"
   ]
  },
  {
   "cell_type": "code",
   "execution_count": null,
   "metadata": {
    "collapsed": false
   },
   "outputs": [],
   "source": [
    "titanic.head()"
   ]
  },
  {
   "cell_type": "markdown",
   "metadata": {},
   "source": [
    "### Plotting"
   ]
  },
  {
   "cell_type": "code",
   "execution_count": null,
   "metadata": {
    "collapsed": false
   },
   "outputs": [],
   "source": [
    "import matplotlib.pyplot as plt\n",
    "# if using a notebook:\n",
    "%matplotlib inline "
   ]
  },
  {
   "cell_type": "markdown",
   "metadata": {},
   "source": [
    "Pandas is well integrated with matplotlib, the most commonly used Python plotting library. It's really handy when you want to visualize your data with a quick histogram or make a nice looking bar chart. Dataframes and series even have a built in histogram method!"
   ]
  },
  {
   "cell_type": "code",
   "execution_count": null,
   "metadata": {
    "collapsed": false
   },
   "outputs": [],
   "source": [
    "titanic[\"Age\"].hist() "
   ]
  },
  {
   "cell_type": "code",
   "execution_count": null,
   "metadata": {
    "collapsed": false
   },
   "outputs": [],
   "source": [
    "# let's compare age distribution among surviving passengers vs. those who didn't\n",
    "titanic[titanic['Survived'] == 0]['Age'].hist(label=\"Non-survivors\")\n",
    "titanic[titanic['Survived'] == 1]['Age'].hist(label=\"Survivors\")\n",
    "plt.legend()\n",
    "plt.show()"
   ]
  },
  {
   "cell_type": "code",
   "execution_count": null,
   "metadata": {
    "collapsed": false
   },
   "outputs": [],
   "source": [
    "titanic.head()"
   ]
  },
  {
   "cell_type": "code",
   "execution_count": null,
   "metadata": {
    "collapsed": false
   },
   "outputs": [],
   "source": [
    "# Let's make a nice bar chart of sex breakdown of passengers in each class\n",
    "pd.crosstab(titanic[\"Sex\"], titanic[\"Pclass\"])"
   ]
  },
  {
   "cell_type": "code",
   "execution_count": null,
   "metadata": {
    "collapsed": false
   },
   "outputs": [],
   "source": [
    "women, men = pd.crosstab(titanic[\"Sex\"], titanic[\"Pclass\"]).values\n",
    "classes = np.arange(3)\n",
    "width = 0.5\n",
    "plt.bar(classes, women, width, color=\"DarkSeaGreen\", label=\"Women\")\n",
    "plt.bar(classes, men, width, bottom=women, color=\"SlateBlue\", label=\"Men\")\n",
    "plt.xticks(classes + width/2., (\"First\", \"Second\", \"Third\"))\n",
    "plt.legend(loc=\"upper left\")\n",
    "plt.xlabel(\"Passenger Class\")\n",
    "plt.ylabel(\"Count\")\n",
    "plt.title(\"Titanic Passenger Count by Class and Sex\")\n",
    "plt.show()"
   ]
  },
  {
   "cell_type": "code",
   "execution_count": null,
   "metadata": {
    "collapsed": true
   },
   "outputs": [],
   "source": []
  }
 ],
 "metadata": {
  "kernelspec": {
   "display_name": "Python 2",
   "language": "python",
   "name": "python2"
  },
  "language_info": {
   "codemirror_mode": {
    "name": "ipython",
    "version": 2
   },
   "file_extension": ".py",
   "mimetype": "text/x-python",
   "name": "python",
   "nbconvert_exporter": "python",
   "pygments_lexer": "ipython2",
   "version": "2.7.12"
  }
 },
 "nbformat": 4,
 "nbformat_minor": 0
}
